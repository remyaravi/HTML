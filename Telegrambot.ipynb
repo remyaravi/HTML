{
  "nbformat": 4,
  "nbformat_minor": 0,
  "metadata": {
    "colab": {
      "name": "Telegrambot.ipynb",
      "provenance": [],
      "authorship_tag": "ABX9TyNAwl5jWUnhZKUB5hPMmd5U",
      "include_colab_link": true
    },
    "kernelspec": {
      "name": "python3",
      "display_name": "Python 3"
    }
  },
  "cells": [
    {
      "cell_type": "markdown",
      "metadata": {
        "id": "view-in-github",
        "colab_type": "text"
      },
      "source": [
        "<a href=\"https://colab.research.google.com/github/remyaravi/HTML/blob/master/Telegrambot.ipynb\" target=\"_parent\"><img src=\"https://colab.research.google.com/assets/colab-badge.svg\" alt=\"Open In Colab\"/></a>"
      ]
    },
    {
      "cell_type": "code",
      "metadata": {
        "id": "NUP8mlu7vN5U",
        "colab_type": "code",
        "colab": {}
      },
      "source": [
        "!pip install adafruit-io\n",
        "!pip install python-telegram-bot"
      ],
      "execution_count": null,
      "outputs": []
    },
    {
      "cell_type": "markdown",
      "metadata": {
        "id": "nyfZ2d2cB1tR",
        "colab_type": "text"
      },
      "source": [
        ""
      ]
    },
    {
      "cell_type": "code",
      "metadata": {
        "id": "e90v_zaixkxW",
        "colab_type": "code",
        "colab": {}
      },
      "source": [
        "ADAFRUIT_IO_USERNAME = \"remya__r\"\n",
        "ADAFRUIT_IO_KEY = \"aio_fVxS70JrICacOBKmIxiN71NpYdLe\""
      ],
      "execution_count": null,
      "outputs": []
    },
    {
      "cell_type": "code",
      "metadata": {
        "id": "eiII6fC2yp9o",
        "colab_type": "code",
        "colab": {}
      },
      "source": [
        "from Adafruit_IO import Client,Data\n",
        "from telegram.ext import Updater,CommandHandler\n"
      ],
      "execution_count": null,
      "outputs": []
    },
    {
      "cell_type": "code",
      "metadata": {
        "id": "TW6ZWKEIzLlC",
        "colab_type": "code",
        "colab": {}
      },
      "source": [
        "verify = Client(ADAFRUIT_IO_USERNAME,ADAFRUIT_IO_KEY)"
      ],
      "execution_count": null,
      "outputs": []
    },
    {
      "cell_type": "code",
      "metadata": {
        "id": "BvQDskXFzg1L",
        "colab_type": "code",
        "colab": {}
      },
      "source": [
        "def on(bot,update):\n",
        "  chat_id = update.message.chat_id\n",
        "  verify.create_data('kerala',Data(value=1))\n",
        "  bot.send_message(chat_id=chat_id,text=\"Lights On\")\n",
        "  "
      ],
      "execution_count": null,
      "outputs": []
    },
    {
      "cell_type": "code",
      "metadata": {
        "id": "-q5PavpJ2gvf",
        "colab_type": "code",
        "colab": {}
      },
      "source": [
        "def off(bot,update):\n",
        "  chat_id = update.message.chat_id\n",
        "  verify.create_data('kerala',Data(value=0))\n",
        "  bot.send_message(chat_id=chat_id,text=\"Lights Off\")"
      ],
      "execution_count": null,
      "outputs": []
    },
    {
      "cell_type": "code",
      "metadata": {
        "id": "8hh35Asx549C",
        "colab_type": "code",
        "colab": {}
      },
      "source": [
        "updater=Updater('1301226644:AAGtSB9Qn_U3ZAiAjmy2tzTCkrF9XvZEo-w')"
      ],
      "execution_count": null,
      "outputs": []
    },
    {
      "cell_type": "code",
      "metadata": {
        "id": "SDbPGqgw21OF",
        "colab_type": "code",
        "colab": {}
      },
      "source": [
        "dp =updater.dispatcher\n",
        "dp.add_handler(CommandHandler('on',on))\n",
        "dp.add_handler(CommandHandler('off',off))\n",
        "updater.start_polling()\n",
        "updater.idle()"
      ],
      "execution_count": null,
      "outputs": []
    },
    {
      "cell_type": "code",
      "metadata": {
        "id": "Sr8HBjGj7T2R",
        "colab_type": "code",
        "colab": {}
      },
      "source": [
        ""
      ],
      "execution_count": null,
      "outputs": []
    }
  ]
}